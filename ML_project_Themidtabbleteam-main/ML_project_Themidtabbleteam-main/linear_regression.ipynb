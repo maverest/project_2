{
 "cells": [
  {
   "cell_type": "markdown",
   "metadata": {},
   "source": [
    "# Linear regression method\n",
    "This notebook contains a linear regression method for creating a prediction model. It contains lasso and ridge regressions iterated on ECFP, CDDD and a mix of CDDD and ECFP data separately to find the best regression on the best dataset."
   ]
  },
  {
   "cell_type": "code",
   "execution_count": 23,
   "metadata": {},
   "outputs": [],
   "source": [
    "import pandas as pd\n",
    "import numpy as np\n",
    "from sklearn.linear_model import LinearRegression, Ridge, Lasso\n",
    "from sklearn.metrics import mean_squared_error, make_scorer\n",
    "from sklearn.preprocessing import StandardScaler\n",
    "from sklearn.model_selection import KFold, GridSearchCV, cross_val_score\n",
    "from sklearn.pipeline import Pipeline\n",
    "import matplotlib.pyplot as plt\n",
    "from copy import deepcopy\n"
   ]
  },
  {
   "cell_type": "code",
   "execution_count": 24,
   "metadata": {},
   "outputs": [],
   "source": [
    "datas_folder = \"clean_datas/\"\n",
    "train_data_file = \"ecfp_train.csv\"\n",
    "test_data_file = \"ecfp_test.csv\"\n",
    "cddd_train_file = \"cddd_train.csv\"\n",
    "cddd_test_file =  \"cddd_test.csv\"\n",
    "mix_train_file = \"mix_test.csv\"\n",
    "mix_test_file = \"mix_train.csv\"\n",
    "\n",
    "train = pd.read_csv(datas_folder + train_data_file)\n",
    "test = pd.read_csv(datas_folder + test_data_file)\n",
    "cddd_train = pd.read_csv(datas_folder + cddd_train_file)\n",
    "cddd_test = pd.read_csv(datas_folder + cddd_test_file)\n",
    "mix_train = pd.read_csv(datas_folder + mix_train_file)\n",
    "mix_test = pd.read_csv(datas_folder + mix_test_file)\n",
    "\n",
    "# Creating an empty DataFrame with two columns \"Value\" and \"Label\" to visually check results\n",
    "#score = pd.DataFrame(columns=['mean score', 'value'])"
   ]
  },
  {
   "cell_type": "markdown",
   "metadata": {},
   "source": [
    "## Loss calculation and data preparation functions\n",
    "The custom_loss function defines a customized loss metric based on the root mean square error after exponential transformation of the values. The prep_fitt function prepares the data by removing certain columns for model training."
   ]
  },
  {
   "cell_type": "code",
   "execution_count": 4,
   "metadata": {},
   "outputs": [],
   "source": [
    "def custom_loss(y_true, y_pred):\n",
    "    y_pred_exp = np.exp(y_pred)\n",
    "    loss = mean_squared_error(np.exp(y_true), y_pred_exp) \n",
    "    return loss\n",
    "custom_scorer = make_scorer(custom_loss, greater_is_better=False)\n",
    "\n",
    "def prep_fitt(datas):\n",
    "    datas = datas.copy()\n",
    "    try:\n",
    "        return datas.drop(labels=[\"RT\", \"SMILES\", \"mol\", \"Compound\"], axis=1)\n",
    "    except Exception:\n",
    "        return datas.drop(labels=[\"SMILES\", \"mol\", \"Compound\"], axis=1)\n",
    "\n"
   ]
  },
  {
   "cell_type": "markdown",
   "metadata": {},
   "source": [
    "## ECFP LINEAR REGRESSION\n",
    "Use of linear regression on ECFP dataset. The first part uses ridge linear regression and the second uses Lasso. The aim is to compare their effectiveness."
   ]
  },
  {
   "cell_type": "markdown",
   "metadata": {},
   "source": [
    "Preparing data for use:"
   ]
  },
  {
   "cell_type": "code",
   "execution_count": 5,
   "metadata": {},
   "outputs": [],
   "source": [
    "train_log = np.log(train[\"RT\"])\n",
    "true_y = train[\"RT\"]\n",
    "X = prep_fitt(train)\n",
    "y = train_log\n",
    "X_test = prep_fitt(test)"
   ]
  },
  {
   "cell_type": "markdown",
   "metadata": {},
   "source": [
    "### RIDGE\n",
    "The Ridge regression (on ECFP) implementation with a nested cross-validation:"
   ]
  },
  {
   "cell_type": "code",
   "execution_count": null,
   "metadata": {},
   "outputs": [],
   "source": [
    "#ECFP : one hot-encoded drop but not first  / linear regression / ridge / nested cross validation / \n",
    "pipeline = Pipeline([ \n",
    "    (\"model\", Ridge())\n",
    "    ])\n",
    "param_grid = [{'model__alpha': np.logspace(-3, 3,100 )}]\n",
    "\n",
    "# Setup inner and outer cross-validation folds\n",
    "inner_cv = KFold(n_splits=5, shuffle=True, random_state=42)\n",
    "outer_cv = KFold(n_splits=5, shuffle=True, random_state=42)\n",
    "\n",
    "# Initialize GridSearchCV for hyperparameter tuning\n",
    "model = GridSearchCV(\n",
    "\testimator=pipeline, param_grid=param_grid, cv=inner_cv, \n",
    "                           scoring=custom_scorer)\n",
    "\n",
    "# Fit model using GridSearchCV on the training data\n",
    "model.fit(X,y)\n",
    "print(\"Best alpha parameters:\", model.best_params_)\n",
    "\n",
    "# Perform nested cross-validation for model evaluation\n",
    "nested_score=cross_val_score(model, X, y, cv=outer_cv, \n",
    "                           scoring=custom_scorer) \n",
    "\n",
    "# Display cross-validated scores, mean score, and standard deviation of RMSE\n",
    "print(\"Cross-validated scores:\", nested_score)\n",
    "print(\"Mean score:\", np.mean(nested_score))\n",
    "print(\"Standard Deviation of RMSE: \", nested_score.std())\n",
    "\n",
    "# Make predictions on training and test data\n",
    "y_pred_test_log = model.predict(X_test)\n",
    "y_pred_train_log = model.predict(X)\n",
    "y_pred_test = np.exp(y_pred_test_log)\n",
    "y_pred_train = np.exp(y_pred_train_log)\n",
    "\n",
    "# Create a DataFrame with test predictions and save to a CSV file\n",
    "sub_dataframe = pd.DataFrame(list(enumerate(y_pred_test, start=1)), columns=['ID', 'RT'])\n",
    "submission = 'prediction/ecfp_ridge.csv'     \n",
    "sub_dataframe.to_csv(submission, index=False)\n",
    "\n",
    "# Calculate and display the training error (Root Mean Squared Error)\n",
    "print(\"Training error is: {} \".format(np.sqrt(mean_squared_error(y_pred_train, true_y))))\n",
    "\n",
    "# Adding values and labels to the DataFrame to visually check results\n",
    "#score = score.append({'mean score': np.mean(nested_score), 'Method': 'Ridge regression on ECFP'}, ignore_index=True)\n"
   ]
  },
  {
   "cell_type": "markdown",
   "metadata": {},
   "source": [
    "### LASSO\n",
    "The Lasso regression implementation (on ECFP) with a nested cross-validation:"
   ]
  },
  {
   "cell_type": "code",
   "execution_count": null,
   "metadata": {},
   "outputs": [],
   "source": [
    "#ECFP : one hot-encoded drop but not first / linear regression / lasso / nested cross validation / \n",
    "\n",
    "# Creating a Lasso regression pipeline\n",
    "lasso_pipeline = Pipeline([ \n",
    "    (\"model\", Lasso())\n",
    "])\n",
    "\n",
    "# Defining grid of hyperparameters for Lasso regression alpha parameter\n",
    "lasso_param_grid = [{'model__alpha': np.logspace(-3, 3, 100)}]\n",
    "\n",
    "# Setting up inner and outer cross-validation folds\n",
    "inner_cv = KFold(n_splits=5, shuffle=True, random_state=42)\n",
    "outer_cv = KFold(n_splits=5, shuffle=True, random_state=42)\n",
    "\n",
    "# Initializing GridSearchCV for hyperparameter tuning with Lasso regression\n",
    "lasso_model = GridSearchCV(\n",
    "    estimator=lasso_pipeline, param_grid=lasso_param_grid, cv=inner_cv, \n",
    "    scoring=custom_scorer\n",
    ")\n",
    "\n",
    "# Fitting the Lasso model using GridSearchCV on the entire dataset\n",
    "lasso_model.fit(X, y)\n",
    "\n",
    "print(\"Best alpha parameters (Lasso):\", lasso_model.best_params_)\n",
    "\n",
    "\n",
    "# Performing nested cross-validation for evaluating the Lasso model's performance\n",
    "lasso_nested_score = cross_val_score(lasso_model, X, y, cv=outer_cv, scoring=custom_scorer)\n",
    "\n",
    "# Displaying cross-validated scores, mean score, and standard deviation of RMSE for Lasso\n",
    "print(\"Cross-validated scores (Lasso):\", lasso_nested_score)\n",
    "print(\"Mean score (Lasso):\", np.mean(lasso_nested_score))\n",
    "print(\"Standard Deviation of RMSE (Lasso):\", lasso_nested_score.std())\n",
    "\n",
    "# Making predictions on training and test datasets using the Lasso model\n",
    "y_pred_test_log_lasso = lasso_model.predict(X_test)\n",
    "y_pred_train_log_lasso = lasso_model.predict(X)\n",
    "y_pred_test_lasso = np.exp(y_pred_test_log_lasso)\n",
    "y_pred_train_lasso = np.exp(y_pred_train_log_lasso)\n",
    "\n",
    "# Creating a DataFrame with test predictions from Lasso model and saving to a CSV file\n",
    "sub_dataframe_lasso = pd.DataFrame(list(enumerate(y_pred_test_lasso, start=1)), columns=['ID', 'RT'])\n",
    "submission_lasso = 'prediction/ecfp_lasso.csv'     \n",
    "sub_dataframe_lasso.to_csv(submission_lasso, index=False)\n",
    "\n",
    "# Calculating and displaying the training error (RMSE) for the Lasso model\n",
    "print(\"Training error (Lasso) is: {} \".format(np.sqrt(mean_squared_error(y_pred_train_lasso, true_y))))\n",
    "\n",
    "# Adding values and labels to the DataFrame to visually check results\n",
    "#score = score.append({'mean score': np.mean(nested_score), 'Method': 'Lasso regression on ECFP'}, ignore_index=True)"
   ]
  },
  {
   "cell_type": "markdown",
   "metadata": {},
   "source": [
    "## CDDD LINEAR REGRESSION\n",
    "Use of linear regression on CDDD dataset. The first part uses ridge linear regression and the second uses Lasso. The aim is to compare their effectiveness."
   ]
  },
  {
   "cell_type": "markdown",
   "metadata": {},
   "source": [
    "Preparing data for use:"
   ]
  },
  {
   "cell_type": "code",
   "execution_count": 8,
   "metadata": {},
   "outputs": [],
   "source": [
    "cddd_train_log = np.log(cddd_train[\"RT\"])\n",
    "true_y = cddd_train[\"RT\"]\n",
    "X = prep_fitt(cddd_train)\n",
    "y = cddd_train_log\n",
    "#X_test = prep_fitt(cddd_test)\n",
    "#scaler = StandardScaler()\n",
    "#X = scaler.fit_transform(X)\n",
    "#X_test = scaler.transform(X_test)"
   ]
  },
  {
   "cell_type": "markdown",
   "metadata": {},
   "source": [
    "### RIDGE\n",
    "The Ridge regression (on CDDD) implementation with a nested cross-validation:"
   ]
  },
  {
   "cell_type": "code",
   "execution_count": null,
   "metadata": {},
   "outputs": [],
   "source": [
    "#CDDD : one hot-encoded drop but not first / standarized / linear regression / ridge / nested cross validation / 14 null value for cddd_test\n",
    "# Creating a Ridge regression pipeline\n",
    "pipeline = Pipeline([ \n",
    "    (\"model\", Ridge())\n",
    "    ])\n",
    "\n",
    "# Defining grid of hyperparameters for Ridge regression alpha parameter\n",
    "param_grid = [{'model__alpha': np.logspace(-3, 3,100 )}]\n",
    "\n",
    "# Setting up inner and outer cross-validation folds\n",
    "inner_cv = KFold(n_splits=5, shuffle=True, random_state=42)\n",
    "outer_cv = KFold(n_splits=5, shuffle=True, random_state=42)\n",
    "\n",
    "# Initializing GridSearchCV for hyperparameter tuning with Ridge regression\n",
    "model = GridSearchCV(\n",
    "\testimator=pipeline, param_grid=param_grid, cv=inner_cv, \n",
    "                           scoring=custom_scorer)\n",
    "\n",
    "# Fitting the model using GridSearchCV on the entire dataset\n",
    "model.fit(X,y)\n",
    "print(\"Best alpha parameters:\", model.best_params_)\n",
    "\n",
    "# Performing nested cross-validation for evaluating the model's performance\n",
    "nested_score=cross_val_score(model, X, y, cv=outer_cv, \n",
    "                           scoring=custom_scorer) \n",
    "\n",
    "print(\"Cross-validated scores:\", nested_score)\n",
    "print(\"Mean score:\", np.mean(nested_score))\n",
    "print(\"Standard Deviation of RMSE: \", nested_score.std())\n",
    "\n",
    "# Making predictions on training and test datasets\n",
    "y_pred_test_log = model.predict(X_test)\n",
    "y_pred_train_log = model.predict(X)\n",
    "y_pred_test = np.exp(y_pred_test_log)\n",
    "y_pred_train = np.exp(y_pred_train_log)\n",
    "\n",
    "# Creating a DataFrame with test predictions and saving to a CSV file\n",
    "sub_dataframe = pd.DataFrame(list(enumerate(y_pred_test, start=1)), columns=['ID', 'RT'])\n",
    "submission = 'prediction/cddd_ridge.csv'     \n",
    "sub_dataframe.to_csv(submission, index=False)\n",
    "\n",
    "print(\"Training error is: {} \".format(np.sqrt(mean_squared_error(y_pred_train, true_y))))\n",
    "\n",
    "# Adding values and labels to the DataFrame to visually check results\n",
    "#score = score.append({'mean score': np.mean(nested_score), 'Method': 'Ridge regression on CDDD'}, ignore_index=True)"
   ]
  },
  {
   "cell_type": "markdown",
   "metadata": {},
   "source": [
    "### LASSO \n",
    "The Lasso regression (on CDDD) implementation with a nested cross-validation:"
   ]
  },
  {
   "cell_type": "code",
   "execution_count": null,
   "metadata": {},
   "outputs": [],
   "source": [
    "#CDDD : one hot-encoded drop but not first / standarized / linear regression / lasso / nested cross validation / 14 null value for cddd_test\n",
    "# Creating a Lasso regression pipeline\n",
    "lasso_pipeline = Pipeline([ \n",
    "    (\"model\", Lasso())\n",
    "])\n",
    "\n",
    "# Defining grid of hyperparameters for Lasso regression alpha parameter\n",
    "lasso_param_grid = [{'model__alpha': np.logspace(-3, 3, 100)}]\n",
    "\n",
    "# Setting up inner and outer cross-validation folds\n",
    "inner_cv = KFold(n_splits=5, shuffle=True, random_state=42)\n",
    "outer_cv = KFold(n_splits=5, shuffle=True, random_state=42)\n",
    "\n",
    "# Initializing GridSearchCV for hyperparameter tuning with Lasso regression\n",
    "lasso_model = GridSearchCV(\n",
    "    estimator=lasso_pipeline, param_grid=lasso_param_grid, cv=inner_cv, \n",
    "    scoring=custom_scorer\n",
    ")\n",
    "\n",
    "# Fitting the Lasso model using GridSearchCV on the entire dataset\n",
    "lasso_model.fit(X, y)\n",
    "\n",
    "print(\"Best alpha parameters (Lasso):\", lasso_model.best_params_)\n",
    "\n",
    "# Performing nested cross-validation for evaluating the Lasso model's performance\n",
    "lasso_nested_score = cross_val_score(lasso_model, X, y, cv=outer_cv, scoring=custom_scorer)\n",
    "\n",
    "print(\"Cross-validated scores (Lasso):\", lasso_nested_score)\n",
    "print(\"Mean score (Lasso):\", np.mean(lasso_nested_score))\n",
    "print(\"Standard Deviation of RMSE (Lasso):\", lasso_nested_score.std())\n",
    "\n",
    "# Making predictions on training and test datasets using the Lasso model\n",
    "y_pred_test_log_lasso = lasso_model.predict(X_test)\n",
    "y_pred_train_log_lasso = lasso_model.predict(X)\n",
    "y_pred_test_lasso = np.exp(y_pred_test_log_lasso)\n",
    "y_pred_train_lasso = np.exp(y_pred_train_log_lasso)\n",
    "\n",
    "# Creating a DataFrame with test predictions from Lasso model and saving to a CSV file\n",
    "sub_dataframe_lasso = pd.DataFrame(list(enumerate(y_pred_test_lasso, start=1)), columns=['ID', 'RT'])\n",
    "submission_lasso = 'prediction/cddd_lasso.csv'     \n",
    "sub_dataframe_lasso.to_csv(submission_lasso, index=False)\n",
    "\n",
    "print(\"Training error (Lasso) is: {} \".format(np.sqrt(mean_squared_error(y_pred_train_lasso, true_y))))\n",
    "\n",
    "# Adding values and labels to the DataFrame to visually check results\n",
    "#score = score.append({'mean score': np.mean(nested_score), 'Method': 'Lasso regression on CDDD'}, ignore_index=True)"
   ]
  },
  {
   "cell_type": "markdown",
   "metadata": {},
   "source": [
    "## ECFP and CDDD LINEAR REGRESSION\n",
    "Use of linear regression on a mix of CDDD and ECFP dataset. The first part uses ridge linear regression and the second uses Lasso. The aim is to compare their effectiveness."
   ]
  },
  {
   "cell_type": "markdown",
   "metadata": {},
   "source": [
    "Preparing data for use:"
   ]
  },
  {
   "cell_type": "code",
   "execution_count": null,
   "metadata": {},
   "outputs": [],
   "source": [
    "mix_train_log = np.log(cddd_train[\"RT\"])\n",
    "true_y = mix_train[\"RT\"]\n",
    "X = prep_fitt(mix_train)\n",
    "y = mix_train_log\n",
    "X_test = prep_fitt(mix_test)\n",
    "# Z-std on everything\n",
    "#scaler = StandardScaler()\n",
    "#X = scaler.fit_transform(X)\n",
    "#X_test = scaler.transform(X_test)\n",
    "\n",
    "#Z-std on CDDD only\n",
    "# col_std = [colonne for colonne in X.columns if 'cddd' in colonne.lower()]\n",
    "# X_to_std = X[col_std]\n",
    "# scaler = StandardScaler()\n",
    "# X_to_std = scaler.fit_transform(X_to_std)\n",
    "# X[col_std] = X_to_std\n",
    "\n",
    "# col_std = [colonne for colonne in X_test.columns if 'cddd' in colonne.lower()]\n",
    "# X_to_std = X_test[col_std]\n",
    "# X_to_std = scaler.transform(X_to_std)\n",
    "# X_test[col_std] = X_to_std"
   ]
  },
  {
   "cell_type": "markdown",
   "metadata": {},
   "source": [
    "### RIDGE\n",
    "The Ridge regression (on CDDD and ECFP together) implementation with a nested cross-validation:"
   ]
  },
  {
   "cell_type": "code",
   "execution_count": null,
   "metadata": {},
   "outputs": [],
   "source": [
    "#CDDD and ECFP : one hot-encoded drop but not first / standarized / linear regression / ridge / nested cross validation / 14 null value for cddd_test\n",
    "# Creating a Ridge regression pipeline\n",
    "pipeline = Pipeline([ \n",
    "    (\"model\", Ridge())\n",
    "    ])\n",
    "\n",
    "# Defining grid of hyperparameters for Ridge regression alpha parameter\n",
    "param_grid = [{'model__alpha': np.logspace(-3, 3,100 )}]\n",
    "\n",
    "# Setting up inner and outer cross-validation folds\n",
    "inner_cv = KFold(n_splits=5, shuffle=True, random_state=42)\n",
    "outer_cv = KFold(n_splits=5, shuffle=True, random_state=42)\n",
    "\n",
    "# Initializing GridSearchCV for hyperparameter tuning with Ridge regression\n",
    "model = GridSearchCV(\n",
    "\testimator=pipeline, param_grid=param_grid, cv=inner_cv, \n",
    "                           scoring=custom_scorer)\n",
    "\n",
    "# Fitting the model using GridSearchCV on the entire dataset\n",
    "model.fit(X,y)\n",
    "print(\"Best alpha parameters:\", model.best_params_)\n",
    "\n",
    "# Performing nested cross-validation for evaluating the model's performance\n",
    "nested_score=cross_val_score(model, X, y, cv=outer_cv, \n",
    "                           scoring=custom_scorer) \n",
    "\n",
    "print(\"Cross-validated scores:\", nested_score)\n",
    "print(\"Mean score:\", np.mean(nested_score))\n",
    "print(\"Standard Deviation of RMSE: \", nested_score.std())\n",
    "\n",
    "# Making predictions on training and test datasets\n",
    "y_pred_test_log = model.predict(X_test)\n",
    "y_pred_train_log = model.predict(X)\n",
    "y_pred_test = np.exp(y_pred_test_log)\n",
    "y_pred_train = np.exp(y_pred_train_log)\n",
    "\n",
    "# Creating a DataFrame with test predictions and saving to a CSV file\n",
    "sub_dataframe = pd.DataFrame(list(enumerate(y_pred_test, start=1)), columns=['ID', 'RT'])\n",
    "submission = 'prediction/cddd_ridge.csv'     \n",
    "sub_dataframe.to_csv(submission, index=False)\n",
    "\n",
    "print(\"Training error is: {} \".format(np.sqrt(mean_squared_error(y_pred_train, true_y))))\n",
    "\n",
    "# Adding values and labels to the DataFrame to visually check results\n",
    "#score = score.append({'mean score': np.mean(nested_score), 'Method': 'Ridge regression on ECFP and CDDD'}, ignore_index=True)"
   ]
  },
  {
   "cell_type": "markdown",
   "metadata": {},
   "source": [
    "### LASSO \n",
    "The Lasso regression (on CDDD and ECFP together) implementation with a nested cross-validation:"
   ]
  },
  {
   "cell_type": "code",
   "execution_count": null,
   "metadata": {},
   "outputs": [],
   "source": [
    "#CDDD and ECFP : one hot-encoded drop but not first / standarized / linear regression / lasso / nested cross validation / 14 null value for cddd_test\n",
    "# Creating a Lasso regression pipeline\n",
    "lasso_pipeline = Pipeline([ \n",
    "    (\"model\", Lasso())\n",
    "])\n",
    "\n",
    "# Defining grid of hyperparameters for Lasso regression alpha parameter\n",
    "lasso_param_grid = [{'model__alpha': np.logspace(-3, 3, 100)}]\n",
    "\n",
    "# Setting up inner and outer cross-validation folds\n",
    "inner_cv = KFold(n_splits=5, shuffle=True, random_state=42)\n",
    "outer_cv = KFold(n_splits=5, shuffle=True, random_state=42)\n",
    "\n",
    "# Initializing GridSearchCV for hyperparameter tuning with Lasso regression\n",
    "lasso_model = GridSearchCV(\n",
    "    estimator=lasso_pipeline, param_grid=lasso_param_grid, cv=inner_cv, \n",
    "    scoring=custom_scorer\n",
    ")\n",
    "\n",
    "# Fitting the Lasso model using GridSearchCV on the entire dataset\n",
    "lasso_model.fit(X, y)\n",
    "\n",
    "print(\"Best alpha parameters (Lasso):\", lasso_model.best_params_)\n",
    "\n",
    "# Performing nested cross-validation for evaluating the Lasso model's performance\n",
    "lasso_nested_score = cross_val_score(lasso_model, X, y, cv=outer_cv, scoring=custom_scorer)\n",
    "\n",
    "print(\"Cross-validated scores (Lasso):\", lasso_nested_score)\n",
    "print(\"Mean score (Lasso):\", np.mean(lasso_nested_score))\n",
    "print(\"Standard Deviation of RMSE (Lasso):\", lasso_nested_score.std())\n",
    "\n",
    "# Making predictions on training and test datasets using the Lasso model\n",
    "y_pred_test_log_lasso = lasso_model.predict(X_test)\n",
    "y_pred_train_log_lasso = lasso_model.predict(X)\n",
    "y_pred_test_lasso = np.exp(y_pred_test_log_lasso)\n",
    "y_pred_train_lasso = np.exp(y_pred_train_log_lasso)\n",
    "\n",
    "# Creating a DataFrame with test predictions from Lasso model and saving to a CSV file\n",
    "sub_dataframe_lasso = pd.DataFrame(list(enumerate(y_pred_test_lasso, start=1)), columns=['ID', 'RT'])\n",
    "submission_lasso = 'prediction/cddd_lasso.csv'     \n",
    "sub_dataframe_lasso.to_csv(submission_lasso, index=False)\n",
    "\n",
    "print(\"Training error (Lasso) is: {} \".format(np.sqrt(mean_squared_error(y_pred_train_lasso, true_y))))\n",
    "\n",
    "# Adding values and labels to the DataFrame to visually check results\n",
    "#score = score.append({'mean score': np.mean(nested_score), 'Method': 'Lasso regression on ECFP and CDDD'}, ignore_index=True)"
   ]
  },
  {
   "cell_type": "markdown",
   "metadata": {},
   "source": [
    "## Visual comparison of different methods"
   ]
  },
  {
   "cell_type": "markdown",
   "metadata": {},
   "source": [
    "### Creation of a score DataFrame with 'mean score' and 'Method' columns. \n",
    "To save time, we use the values found earlier to fill the DataFrame, otherwise we'd have to run all predictions simultaneously."
   ]
  },
  {
   "cell_type": "code",
   "execution_count": null,
   "metadata": {},
   "outputs": [],
   "source": [
    "# Création du DataFrame score avec les colonnes 'mean score' et 'Method'\n",
    "score = pd.DataFrame(columns=['mean score', 'Method'])\n",
    "score = score.append({'mean score': -1.4455, 'Method': 'Ridge regression on ECFP with standardization'}, ignore_index=True)#score = score.append({'mean score': 1, 'Method': 'Lasso regression on ECFP'}, ignore_index=True)\n",
    "score = score.append({'mean score': -1.7159, 'Method': 'Lasso regression on ECFP with standardization'}, ignore_index=True)\n",
    "score = score.append({'mean score': -1.1882, 'Method': 'Ridge regression on CDDD with standardization'}, ignore_index=True)\n",
    "score = score.append({'mean score': -1.2210, 'Method': 'Lasso regression on CDDD with standardization'}, ignore_index=True)\n",
    "score = score.append({'mean score': -1.2619, 'Method': 'Ridge regression on ECFP and CDDD with standardization'}, ignore_index=True)\n",
    "\n",
    "score = score.append({'mean score': -1.2333, 'Method': 'Ridge regression on CDDD without standardization'}, ignore_index=True)\n",
    "score = score.append({'mean score': -1.2210, 'Method': 'Lasso regression on CDDD without standardization'}, ignore_index=True)\n",
    "score = score.append({'mean score': -1.2185, 'Method': 'Ridge regression on ECFP and CDDD without standardization'}, ignore_index=True)\n",
    "score = score.append({'mean score': -1.2028, 'Method': 'Lasso regression on ECFP and CDDD without standardization'}, ignore_index=True)"
   ]
  },
  {
   "cell_type": "markdown",
   "metadata": {},
   "source": [
    "### Plotting the bar chart"
   ]
  },
  {
   "cell_type": "code",
   "execution_count": 26,
   "metadata": {},
   "outputs": [
    {
     "data": {
      "image/png": "[encoded data removed]",
      "text/plain": [
       "<Figure size 720x432 with 1 Axes>"
      ]
     },
     "metadata": {
      "needs_background": "light"
     },
     "output_type": "display_data"
    }
   ],
   "source": [
    "# Plotting the bar chart\n",
    "plt.figure(figsize=(10, 6)) \n",
    "color_list = ['blue', 'darkcyan', 'lightblue', 'cyan', 'plum', 'slateblue', 'yellow', 'orange', 'tomato', 'darkred', 'gold', 'peru']\n",
    "\n",
    "positions = range(score.shape[0])\n",
    "plt.bar(positions, abs(score['mean score']), color=color_list)\n",
    "\n",
    "# Adding method names instead of x-axis ticks\n",
    "plt.xticks(positions, score['Method'], rotation=45, ha='right', fontsize=8)\n",
    "plt.title('Mean scores for different methods')\n",
    "plt.xlabel(\"Methods\")\n",
    "plt.ylabel(\"Mean score\")\n",
    "\n",
    "# Drawing a horizontal line at the height of the minimum value\n",
    "min_value = min(abs(score['mean score']))\n",
    "plt.axhline(y=abs(min_value), color='red', linestyle='--', label='minimal value')\n",
    "\n",
    "plt.legend()\n",
    "\n",
    "plt.tight_layout()\n",
    "plt.show()\n"
   ]
  }
 ],
 "metadata": {
  "kernelspec": {
   "display_name": "Python 3",
   "language": "python",
   "name": "python3"
  },
  "language_info": {
   "codemirror_mode": {
    "name": "ipython",
    "version": 3
   },
   "file_extension": ".py",
   "mimetype": "text/x-python",
   "name": "python",
   "nbconvert_exporter": "python",
   "pygments_lexer": "ipython3",
   "version": "3.11.5"
  }
 },
 "nbformat": 4,
 "nbformat_minor": 2
}
